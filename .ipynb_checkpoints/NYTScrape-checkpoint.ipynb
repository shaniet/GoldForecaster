{
 "cells": [
  {
   "cell_type": "code",
   "execution_count": 1,
   "id": "db8cdbe2-c45a-499e-94bf-2338448c4db8",
   "metadata": {},
   "outputs": [],
   "source": [
    "#apikey = X8vGMLWCXtOxkRhrgABZGj3baiaKApAn\n",
    "#secret = VG1FpQufkmHA1F3n\n",
    "\n",
    "#https://towardsdatascience.com/collecting-data-from-the-new-york-times-over-any-period-of-time-3e365504004\n",
    "#https://developer.nytimes.com/docs/articlesearch-product/1/overview"
   ]
  },
  {
   "cell_type": "code",
   "execution_count": null,
   "id": "a642e881-9b6f-4ad7-b2b8-6b15a16a2f1b",
   "metadata": {},
   "outputs": [],
   "source": [
    "import os\n",
    "import json\n",
    "import time\n",
    "import requests\n",
    "import datetime\n",
    "import dateutil\n",
    "import pandas as pd\n",
    "from dateutil.relativedelta import relativedelta"
   ]
  },
  {
   "cell_type": "markdown",
   "id": "4f64a249-2f45-48c4-8768-fbeabdf87d4f",
   "metadata": {},
   "source": [
    "### Getting data month by month (10 at a time) "
   ]
  },
  {
   "cell_type": "code",
   "execution_count": 6,
   "id": "5550c8c6-ac33-40ed-9880-d1a26d9e1ad2",
   "metadata": {},
   "outputs": [],
   "source": [
    "from dateutil.relativedelta import relativedelta\n",
    "import pandas as pd\n",
    "import datetime\n",
    "end = datetime.date.today() + relativedelta(months=1)  # add one month to the end date\n",
    "start = end - relativedelta(months=547)\n",
    "months_in_range = [x.split(' ') for x in pd.date_range(start, end, freq='MS').strftime(\"%Y%m%d\").tolist()]\n",
    "\n"
   ]
  },
  {
   "cell_type": "markdown",
   "id": "54d3f561-e361-40fd-997e-1f220b60afb5",
   "metadata": {},
   "source": [
    "### Getting Data by Pages (in the span of 24 months) "
   ]
  },
  {
   "cell_type": "code",
   "execution_count": 18,
   "id": "6afbbefb-f476-4334-a7c7-86753f50a07e",
   "metadata": {},
   "outputs": [],
   "source": [
    "def send_request(begin_date, end_date, page):\n",
    "    '''Sends a request to the NYT Archive API for given date and page.'''\n",
    "    \n",
    "    url = 'https://api.nytimes.com/svc/search/v2/articlesearch.json'\n",
    "    api_key = 'X8vGMLWCXtOxkRhrgABZGj3baiaKApAn'\n",
    "    query = 'tesla'\n",
    "    sort = 'best'\n",
    "\n",
    "    # Send the request to the API\n",
    "    response = requests.get(url, params={'api-key': api_key, 'q': query, 'begin_date': begin_date, 'end_date': end_date, 'sort': sort, 'page': page})\n",
    "    time.sleep(15)\n",
    "    return response\n",
    "\n",
    "\n",
    "\n",
    "\n",
    "def parse_response(response, start, end):\n",
    "    '''Parses and returns response as pandas data frame.'''\n",
    "    data = {'headline': [],  \n",
    "        'date': [], \n",
    "        'doc_type': [],\n",
    "        'material_type': [],\n",
    "        'section': [],\n",
    "        'keywords': []}\n",
    "    \n",
    "    articles = response.json()['response']['docs'] \n",
    "    for article in articles: # For each article, make sure it falls within our date range\n",
    "        \n",
    "        date = dateutil.parser.parse(article['pub_date']).date()\n",
    "        data['date'].append(date)\n",
    "        data['headline'].append(article['headline']['main']) \n",
    "        if 'section' in article:\n",
    "            data['section'].append(article['section_name'])\n",
    "        else:\n",
    "            data['section'].append(None)\n",
    "        data['doc_type'].append(article['document_type'])\n",
    "        if 'type_of_material' in article: \n",
    "            data['material_type'].append(article['type_of_material'])\n",
    "        else:\n",
    "            data['material_type'].append(None)\n",
    "        keywords = [keyword['value'] for keyword in article['keywords'] if keyword['name'] == 'subject']\n",
    "        data['keywords'].append(keywords)\n",
    "    return pd.DataFrame(data) \n",
    "\n",
    "\n",
    "def get_data(start, end):\n",
    "    '''Sends and parses request/response to/from NYT Archive API for given date range.'''\n",
    "    total = 0\n",
    "    print('Date range: ' + str(start) + ' to ' + str(end))\n",
    "    if not os.path.exists('headlines'):\n",
    "        os.mkdir('headlines_pages')\n",
    "    page = 5\n",
    "    while True:\n",
    "        response = send_request(start, end, page)\n",
    "        if response.status_code != 200:\n",
    "            print('Error:', response.json()['fault']['faultstring'])\n",
    "            break\n",
    "        df = parse_response(response, start, end)\n",
    "        if len(df) == 0:\n",
    "            break\n",
    "        total += len(df)\n",
    "        df.to_csv('headlines_pages/' + start + '-' + end + '_page' + str(page) + '.csv', index=False)\n",
    "        print('Saving headlines/' + start + '-' + end + '_page' + str(page) + '.csv...')\n",
    "        page += 1\n",
    "    print('Number of articles collected: ' + str(total))\n"
   ]
  },
  {
   "cell_type": "code",
   "execution_count": 19,
   "id": "4f27f0e1-d4dd-425d-98a3-f11532c03527",
   "metadata": {},
   "outputs": [
    {
     "name": "stdout",
     "output_type": "stream",
     "text": [
      "Date range: 19780101 to 20230701\n",
      "Saving headlines/19780101-20230701_page5.csv...\n",
      "Saving headlines/19780101-20230701_page6.csv...\n"
     ]
    },
    {
     "ename": "KeyboardInterrupt",
     "evalue": "",
     "output_type": "error",
     "traceback": [
      "\u001b[0;31m---------------------------------------------------------------------------\u001b[0m",
      "\u001b[0;31mKeyboardInterrupt\u001b[0m                         Traceback (most recent call last)",
      "Input \u001b[0;32mIn [19]\u001b[0m, in \u001b[0;36m<cell line: 1>\u001b[0;34m()\u001b[0m\n\u001b[0;32m----> 1\u001b[0m \u001b[43mget_data\u001b[49m\u001b[43m(\u001b[49m\u001b[43mmonths_in_range\u001b[49m\u001b[43m[\u001b[49m\u001b[38;5;241;43m0\u001b[39;49m\u001b[43m]\u001b[49m\u001b[43m[\u001b[49m\u001b[38;5;241;43m0\u001b[39;49m\u001b[43m]\u001b[49m\u001b[43m,\u001b[49m\u001b[43mmonths_in_range\u001b[49m\u001b[43m[\u001b[49m\u001b[38;5;241;43m-\u001b[39;49m\u001b[38;5;241;43m1\u001b[39;49m\u001b[43m]\u001b[49m\u001b[43m[\u001b[49m\u001b[38;5;241;43m0\u001b[39;49m\u001b[43m]\u001b[49m\u001b[43m)\u001b[49m\n",
      "Input \u001b[0;32mIn [18]\u001b[0m, in \u001b[0;36mget_data\u001b[0;34m(start, end)\u001b[0m\n\u001b[1;32m     52\u001b[0m page \u001b[38;5;241m=\u001b[39m \u001b[38;5;241m5\u001b[39m\n\u001b[1;32m     53\u001b[0m \u001b[38;5;28;01mwhile\u001b[39;00m \u001b[38;5;28;01mTrue\u001b[39;00m:\n\u001b[0;32m---> 54\u001b[0m     response \u001b[38;5;241m=\u001b[39m \u001b[43msend_request\u001b[49m\u001b[43m(\u001b[49m\u001b[43mstart\u001b[49m\u001b[43m,\u001b[49m\u001b[43m \u001b[49m\u001b[43mend\u001b[49m\u001b[43m,\u001b[49m\u001b[43m \u001b[49m\u001b[43mpage\u001b[49m\u001b[43m)\u001b[49m\n\u001b[1;32m     55\u001b[0m     \u001b[38;5;28;01mif\u001b[39;00m response\u001b[38;5;241m.\u001b[39mstatus_code \u001b[38;5;241m!=\u001b[39m \u001b[38;5;241m200\u001b[39m:\n\u001b[1;32m     56\u001b[0m         \u001b[38;5;28mprint\u001b[39m(\u001b[38;5;124m'\u001b[39m\u001b[38;5;124mError:\u001b[39m\u001b[38;5;124m'\u001b[39m, response\u001b[38;5;241m.\u001b[39mjson()[\u001b[38;5;124m'\u001b[39m\u001b[38;5;124mfault\u001b[39m\u001b[38;5;124m'\u001b[39m][\u001b[38;5;124m'\u001b[39m\u001b[38;5;124mfaultstring\u001b[39m\u001b[38;5;124m'\u001b[39m])\n",
      "Input \u001b[0;32mIn [18]\u001b[0m, in \u001b[0;36msend_request\u001b[0;34m(begin_date, end_date, page)\u001b[0m\n\u001b[1;32m      9\u001b[0m \u001b[38;5;66;03m# Send the request to the API\u001b[39;00m\n\u001b[1;32m     10\u001b[0m response \u001b[38;5;241m=\u001b[39m requests\u001b[38;5;241m.\u001b[39mget(url, params\u001b[38;5;241m=\u001b[39m{\u001b[38;5;124m'\u001b[39m\u001b[38;5;124mapi-key\u001b[39m\u001b[38;5;124m'\u001b[39m: api_key, \u001b[38;5;124m'\u001b[39m\u001b[38;5;124mq\u001b[39m\u001b[38;5;124m'\u001b[39m: query, \u001b[38;5;124m'\u001b[39m\u001b[38;5;124mbegin_date\u001b[39m\u001b[38;5;124m'\u001b[39m: begin_date, \u001b[38;5;124m'\u001b[39m\u001b[38;5;124mend_date\u001b[39m\u001b[38;5;124m'\u001b[39m: end_date, \u001b[38;5;124m'\u001b[39m\u001b[38;5;124msort\u001b[39m\u001b[38;5;124m'\u001b[39m: sort, \u001b[38;5;124m'\u001b[39m\u001b[38;5;124mpage\u001b[39m\u001b[38;5;124m'\u001b[39m: page})\n\u001b[0;32m---> 11\u001b[0m \u001b[43mtime\u001b[49m\u001b[38;5;241;43m.\u001b[39;49m\u001b[43msleep\u001b[49m\u001b[43m(\u001b[49m\u001b[38;5;241;43m15\u001b[39;49m\u001b[43m)\u001b[49m\n\u001b[1;32m     12\u001b[0m \u001b[38;5;28;01mreturn\u001b[39;00m response\n",
      "\u001b[0;31mKeyboardInterrupt\u001b[0m: "
     ]
    }
   ],
   "source": [
    "for i in range(len(months_in_range) - 1):\n",
    "    start_month = months_in_range[i][0]\n",
    "    end_month = months_in_range[i + 1][0]\n",
    "    \n",
    "    get_data(start_month, end_month)"
   ]
  },
  {
   "cell_type": "code",
   "execution_count": null,
   "id": "37846f89-6bb9-4b22-907d-a1bafb3e911e",
   "metadata": {},
   "outputs": [],
   "source": []
  }
 ],
 "metadata": {
  "kernelspec": {
   "display_name": "Python 3 (ipykernel)",
   "language": "python",
   "name": "python3"
  },
  "language_info": {
   "codemirror_mode": {
    "name": "ipython",
    "version": 3
   },
   "file_extension": ".py",
   "mimetype": "text/x-python",
   "name": "python",
   "nbconvert_exporter": "python",
   "pygments_lexer": "ipython3",
   "version": "3.10.2"
  }
 },
 "nbformat": 4,
 "nbformat_minor": 5
}
